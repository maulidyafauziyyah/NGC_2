{
 "cells": [
  {
   "cell_type": "markdown",
   "metadata": {},
   "source": [
    "# NGC 2"
   ]
  },
  {
   "cell_type": "markdown",
   "metadata": {},
   "source": [
    "# TASK 1"
   ]
  },
  {
   "cell_type": "code",
   "execution_count": 11,
   "metadata": {},
   "outputs": [
    {
     "data": {
      "text/plain": [
       "5"
      ]
     },
     "execution_count": 11,
     "metadata": {},
     "output_type": "execute_result"
    }
   ],
   "source": [
    "# Create a function that count the number of word in a sentence. Instruction:\n",
    "# 1.Create function called `number_of_word`.\n",
    "# 2.This function takes 1 input, `sentence`.\n",
    "# 3.Inside this function, you can utilize `.split()` method to split the sentence into list of word(s).\n",
    "# 4.Also, `len()` function to count the element inside a list.\n",
    "# 5.Return the number of word from the sentence.\n",
    "\n",
    "def numberOfWord(sentence):\n",
    "    words = sentence.split()\n",
    "    total_words = len(words)\n",
    "    return total_words\n",
    "\n",
    "numberOfWord(\"hari ini saya belajar function\")\n"
   ]
  },
  {
   "cell_type": "markdown",
   "metadata": {},
   "source": [
    "# TASK 2"
   ]
  },
  {
   "cell_type": "code",
   "execution_count": 20,
   "metadata": {},
   "outputs": [
    {
     "data": {
      "text/plain": [
       "[5, 10, 15, 20]"
      ]
     },
     "execution_count": 20,
     "metadata": {},
     "output_type": "execute_result"
    }
   ],
   "source": [
    "# Create a function that will get list of number(s) from a certain range that multiples of given number.\n",
    "# Instruction:\n",
    "# 1.Create function called `find_multiples`.\n",
    "# 2.This function takes 3 input: `start_range`, `end_range`, and `multiple`.\n",
    "# 3.From every number within the given range, check if that number is the mutliples of `multiple`.\n",
    "# 4.Return list of the possible multiple number(s)\n",
    "\n",
    "\n",
    "def find_multiples(startRange, endRange, multiple):\n",
    "    list = []                                  #list kosong karena belum ada yang bisa ditampilkan\n",
    "    for x in range(startRange, endRange+1):\n",
    "        if x % multiple == 0:                   #jika \"x\" modulo(sisa pembagian/sisa bagi) dari multiple adalah samadengan 0\n",
    "            list.append(x)                      #append: menambah value ke list\n",
    "    return list                                 \n",
    "\n",
    "find_multiples(1, 20, 5)\n",
    "    "
   ]
  },
  {
   "cell_type": "markdown",
   "metadata": {},
   "source": [
    "# TASK 3"
   ]
  },
  {
   "cell_type": "code",
   "execution_count": 37,
   "metadata": {},
   "outputs": [
    {
     "data": {
      "text/plain": [
       "{'Adam': 2.5, 'Faiz': 4}"
      ]
     },
     "execution_count": 37,
     "metadata": {},
     "output_type": "execute_result"
    }
   ],
   "source": [
    "# Create a function that will convert student’s grade to GPA.\n",
    "# Instruction:\n",
    "# 1.Create function called `Grade_Converter`.\n",
    "# 2.This function takes input: `convert_to` and n-paired of student(s) name with its respective score.\n",
    "# 3.Input argument for `convert_to` is either `letter_grade` or `gpa`.\n",
    "# 4.You can utilize **kwargs input argument to generate n-length paired of student(s) name with its respective score (Dictionary).\n",
    "# 5.This function will return dictionary of student’s name along with converted Letter Grade or GPA, depending on user input in `convert_to` parameteR\n",
    "\n",
    "def gradeConverter(convertTo, **students):\n",
    "      dict = {}                           #untuk menampung hasil yang akan menjadi output\n",
    "      for key, value in students.items():\n",
    "            realValue = ''                #untuk menampung value dari data\n",
    "            if convertTo == 'gpaScore':\n",
    "                  if value >= 85 and value <= 100:\n",
    "                        realValue = 4\n",
    "                  elif value >= 70 and value <= 84.99:\n",
    "                        realValue = 3\n",
    "                  elif value >= 60 and value <= 69.99:\n",
    "                        realValue = 2.5\n",
    "                  elif value >= 50 and value <= 59.99:\n",
    "                        realValue = 2\n",
    "                  elif value >= 40 and value <= 49.99:\n",
    "                        realValue = 1.5\n",
    "                  elif value >= 0 and value <= 39.99:\n",
    "                        realValue = 1\n",
    "            elif convertTo == 'letterGrade':   #penggunaanelif untuk mendefinisikan kondisi selanjutnya\n",
    "                  if value >= 85 and value <= 100:\n",
    "                        realValue = 'A'\n",
    "                  elif value >= 70 and value <= 84.99:\n",
    "                        realValue = 'B'\n",
    "                  elif value >= 60 and value <= 69.99:\n",
    "                        realValue = 'C'\n",
    "                  elif value >= 50 and value <= 59.99:\n",
    "                        realValue = 'D'\n",
    "                  elif value >= 40 and value <= 49.99:\n",
    "                        realValue = 'E'\n",
    "                  elif value >= 0 and value <= 39.99:\n",
    "                        realValue = 'F'\n",
    "\n",
    "            dict[key] = realValue\n",
    "      return dict\n",
    "     \n",
    "                # print(f\"{key}: {value}\")\n",
    "gradeConverter('gpaScore', Adam=62, Faiz=91)\n",
    "\n"
   ]
  },
  {
   "cell_type": "code",
   "execution_count": null,
   "metadata": {},
   "outputs": [],
   "source": []
  },
  {
   "cell_type": "markdown",
   "metadata": {},
   "source": [
    "# Task 4"
   ]
  },
  {
   "cell_type": "code",
   "execution_count": 38,
   "metadata": {},
   "outputs": [
    {
     "name": "stdout",
     "output_type": "stream",
     "text": [
      "55\n"
     ]
    }
   ],
   "source": [
    "# Create a function that will return the value of n-th fibonacci number.\n",
    "# Instruction:\n",
    "# 1.The function will take 1 input parameter, n, represents the asked number from our fibonacci sequence index.\n",
    "# 2.The fibonacci sequence will start with the value of 0 and 1.\n",
    "# 3.This function will return the n-th value from fibonacci sequence\n",
    "\n",
    "def Fibonacci(n): \n",
    "    if n<0: \n",
    "        print(\"Incorrect input\") \n",
    "    # First Fibonacci number is 0 \n",
    "    elif n==0: \n",
    "        return (0) \n",
    "    # Second Fibonacci number is 1 \n",
    "    elif n==1: \n",
    "        return (1)\n",
    "    else: \n",
    "        return (Fibonacci(n-1)+Fibonacci(n-2)) \n",
    "print(Fibonacci(10)) \n",
    "    "
   ]
  }
 ],
 "metadata": {
  "kernelspec": {
   "display_name": "Python 3",
   "language": "python",
   "name": "python3"
  },
  "language_info": {
   "codemirror_mode": {
    "name": "ipython",
    "version": 3
   },
   "file_extension": ".py",
   "mimetype": "text/x-python",
   "name": "python",
   "nbconvert_exporter": "python",
   "pygments_lexer": "ipython3",
   "version": "3.9.6"
  }
 },
 "nbformat": 4,
 "nbformat_minor": 2
}
